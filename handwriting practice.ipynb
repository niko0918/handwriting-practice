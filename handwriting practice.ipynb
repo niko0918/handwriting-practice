{
 "cells": [
  {
   "cell_type": "code",
   "execution_count": 24,
   "metadata": {},
   "outputs": [],
   "source": [
    "import scipy.io as scio\n",
    "import matplotlib.pyplot as plt\n",
    "import random\n",
    "import pandas as pd\n",
    "import numpy as np\n",
    "from sklearn.utils import shuffle\n",
    "from sklearn.linear_model import LogisticRegression\n",
    "from sklearn.model_selection import learning_curve\n",
    "import warnings\n",
    "warnings.filterwarnings(\"ignore\")"
   ]
  },
  {
   "cell_type": "code",
   "execution_count": 25,
   "metadata": {},
   "outputs": [],
   "source": [
    "path = 'mnist.mat'\n",
    "data = scio.loadmat(path)"
   ]
  },
  {
   "cell_type": "code",
   "execution_count": 26,
   "metadata": {},
   "outputs": [
    {
     "data": {
      "text/plain": [
       "{'__header__': b'MATLAB 5.0 MAT-file, Platform: GLNXA64, Created on: Sun Oct 16 13:09:09 2011',\n",
       " '__version__': '1.0',\n",
       " '__globals__': [],\n",
       " 'X': array([[0., 0., 0., ..., 0., 0., 0.],\n",
       "        [0., 0., 0., ..., 0., 0., 0.],\n",
       "        [0., 0., 0., ..., 0., 0., 0.],\n",
       "        ...,\n",
       "        [0., 0., 0., ..., 0., 0., 0.],\n",
       "        [0., 0., 0., ..., 0., 0., 0.],\n",
       "        [0., 0., 0., ..., 0., 0., 0.]]),\n",
       " 'y': array([[10],\n",
       "        [10],\n",
       "        [10],\n",
       "        ...,\n",
       "        [ 9],\n",
       "        [ 9],\n",
       "        [ 9]], dtype=uint8)}"
      ]
     },
     "execution_count": 26,
     "metadata": {},
     "output_type": "execute_result"
    }
   ],
   "source": [
    "data"
   ]
  },
  {
   "cell_type": "code",
   "execution_count": 4,
   "metadata": {},
   "outputs": [],
   "source": [
    "x_data = data['X']\n",
    "y_data = data['y']"
   ]
  },
  {
   "cell_type": "code",
   "execution_count": 5,
   "metadata": {},
   "outputs": [],
   "source": [
    "y_data[y_data==10] = 0"
   ]
  },
  {
   "cell_type": "code",
   "execution_count": 6,
   "metadata": {},
   "outputs": [
    {
     "data": {
      "text/plain": [
       "(5000, 400)"
      ]
     },
     "execution_count": 6,
     "metadata": {},
     "output_type": "execute_result"
    }
   ],
   "source": [
    "np.shape(x_data)"
   ]
  },
  {
   "cell_type": "code",
   "execution_count": 7,
   "metadata": {},
   "outputs": [
    {
     "data": {
      "text/plain": [
       "array([ 0.00000000e+00,  0.00000000e+00,  0.00000000e+00,  0.00000000e+00,\n",
       "        0.00000000e+00,  0.00000000e+00,  0.00000000e+00,  0.00000000e+00,\n",
       "        0.00000000e+00,  0.00000000e+00,  0.00000000e+00,  0.00000000e+00,\n",
       "        0.00000000e+00,  0.00000000e+00,  0.00000000e+00,  0.00000000e+00,\n",
       "        0.00000000e+00,  0.00000000e+00,  0.00000000e+00,  0.00000000e+00,\n",
       "        0.00000000e+00,  0.00000000e+00,  0.00000000e+00,  0.00000000e+00,\n",
       "        0.00000000e+00,  0.00000000e+00,  0.00000000e+00,  0.00000000e+00,\n",
       "        0.00000000e+00,  0.00000000e+00,  0.00000000e+00,  0.00000000e+00,\n",
       "        0.00000000e+00,  0.00000000e+00,  0.00000000e+00,  0.00000000e+00,\n",
       "        0.00000000e+00,  0.00000000e+00,  0.00000000e+00,  0.00000000e+00,\n",
       "        0.00000000e+00,  0.00000000e+00,  0.00000000e+00,  0.00000000e+00,\n",
       "        0.00000000e+00,  0.00000000e+00,  0.00000000e+00,  0.00000000e+00,\n",
       "        0.00000000e+00,  0.00000000e+00,  0.00000000e+00,  0.00000000e+00,\n",
       "        0.00000000e+00,  0.00000000e+00,  0.00000000e+00,  0.00000000e+00,\n",
       "        0.00000000e+00,  0.00000000e+00,  0.00000000e+00,  0.00000000e+00,\n",
       "        0.00000000e+00,  0.00000000e+00,  0.00000000e+00,  0.00000000e+00,\n",
       "        0.00000000e+00,  0.00000000e+00,  0.00000000e+00,  8.56059680e-06,\n",
       "        1.94035948e-06, -7.37438725e-04, -8.13403799e-03, -1.86104473e-02,\n",
       "       -1.87412865e-02, -1.87572508e-02, -1.90963542e-02, -1.64039011e-02,\n",
       "       -3.78191381e-03,  3.30347316e-04,  1.27655229e-05,  0.00000000e+00,\n",
       "        0.00000000e+00,  0.00000000e+00,  0.00000000e+00,  0.00000000e+00,\n",
       "        0.00000000e+00,  0.00000000e+00,  1.16421569e-04,  1.20052179e-04,\n",
       "       -1.40444581e-02, -2.84542484e-02,  8.03826593e-02,  2.66540339e-01,\n",
       "        2.73853746e-01,  2.78729541e-01,  2.74293607e-01,  2.24676403e-01,\n",
       "        2.77562977e-02, -7.06315478e-03,  2.34715414e-04,  0.00000000e+00,\n",
       "        0.00000000e+00,  0.00000000e+00,  0.00000000e+00,  0.00000000e+00,\n",
       "        0.00000000e+00,  1.28335523e-17, -3.26286765e-04, -1.38651604e-02,\n",
       "        8.15651552e-02,  3.82800381e-01,  8.57849775e-01,  1.00109761e+00,\n",
       "        9.69710638e-01,  9.30928598e-01,  1.00383757e+00,  9.64157356e-01,\n",
       "        4.49256553e-01, -5.60408259e-03, -3.78319036e-03,  0.00000000e+00,\n",
       "        0.00000000e+00,  0.00000000e+00,  0.00000000e+00,  5.10620915e-06,\n",
       "        4.36410675e-04, -3.95509940e-03, -2.68537241e-02,  1.00755014e-01,\n",
       "        6.42031710e-01,  1.03136838e+00,  8.50968614e-01,  5.43122379e-01,\n",
       "        3.42599738e-01,  2.68918777e-01,  6.68374643e-01,  1.01256958e+00,\n",
       "        9.03795598e-01,  1.04481574e-01, -1.66424973e-02,  0.00000000e+00,\n",
       "        0.00000000e+00,  0.00000000e+00,  0.00000000e+00,  2.59875260e-05,\n",
       "       -3.10606987e-03,  7.52456076e-03,  1.77539831e-01,  7.92890120e-01,\n",
       "        9.65626503e-01,  4.63166079e-01,  6.91720680e-02, -3.64100526e-03,\n",
       "       -4.12180405e-02, -5.01900656e-02,  1.56102907e-01,  9.01762651e-01,\n",
       "        1.04748346e+00,  1.51055252e-01, -2.16044665e-02,  0.00000000e+00,\n",
       "        0.00000000e+00,  0.00000000e+00,  5.87012352e-05, -6.40931373e-04,\n",
       "       -3.23305249e-02,  2.78203465e-01,  9.36720163e-01,  1.04320956e+00,\n",
       "        5.98003217e-01, -3.59409041e-03, -2.16751770e-02, -4.81021923e-03,\n",
       "        6.16566793e-05, -1.23773318e-02,  1.55477482e-01,  9.14867477e-01,\n",
       "        9.20401348e-01,  1.09173902e-01, -1.71058007e-02,  0.00000000e+00,\n",
       "        0.00000000e+00,  1.56250000e-04, -4.27724104e-04, -2.51466503e-02,\n",
       "        1.30532561e-01,  7.81664862e-01,  1.02836583e+00,  7.57137601e-01,\n",
       "        2.84667194e-01,  4.86865128e-03, -3.18688725e-03,  0.00000000e+00,\n",
       "        8.36492601e-04, -3.70751123e-02,  4.52644165e-01,  1.03180133e+00,\n",
       "        5.39028101e-01, -2.43742611e-03, -4.80290033e-03,  0.00000000e+00,\n",
       "        0.00000000e+00, -7.03635621e-04, -1.27262443e-02,  1.61706648e-01,\n",
       "        7.79865383e-01,  1.03676705e+00,  8.04490400e-01,  1.60586724e-01,\n",
       "       -1.38173339e-02,  2.14879493e-03, -2.12622549e-04,  2.04248366e-04,\n",
       "       -6.85907627e-03,  4.31712963e-04,  7.20680947e-01,  8.48136063e-01,\n",
       "        1.51383408e-01, -2.28404366e-02,  1.98971950e-04,  0.00000000e+00,\n",
       "        0.00000000e+00, -9.40410539e-03,  3.74520505e-02,  6.94389110e-01,\n",
       "        1.02844844e+00,  1.01648066e+00,  8.80488426e-01,  3.92123945e-01,\n",
       "       -1.74122413e-02, -1.20098039e-04,  5.55215142e-05, -2.23907271e-03,\n",
       "       -2.76068376e-02,  3.68645493e-01,  9.36411169e-01,  4.59006723e-01,\n",
       "       -4.24701797e-02,  1.17356610e-03,  1.88929739e-05,  0.00000000e+00,\n",
       "        0.00000000e+00, -1.93511951e-02,  1.29999794e-01,  9.79821705e-01,\n",
       "        9.41862388e-01,  7.75147704e-01,  8.73632241e-01,  2.12778350e-01,\n",
       "       -1.72353349e-02,  0.00000000e+00,  1.09937426e-03, -2.61793751e-02,\n",
       "        1.22872879e-01,  8.30812662e-01,  7.26501773e-01,  5.24441863e-02,\n",
       "       -6.18971913e-03,  0.00000000e+00,  0.00000000e+00,  0.00000000e+00,\n",
       "        0.00000000e+00, -9.36563862e-03,  3.68349741e-02,  6.99079299e-01,\n",
       "        1.00293583e+00,  6.05704402e-01,  3.27299224e-01, -3.22099249e-02,\n",
       "       -4.83053002e-02, -4.34069138e-02, -5.75151144e-02,  9.55674190e-02,\n",
       "        7.26512627e-01,  6.95366966e-01,  1.47114481e-01, -1.20048679e-02,\n",
       "       -3.02798203e-04,  0.00000000e+00,  0.00000000e+00,  0.00000000e+00,\n",
       "        0.00000000e+00, -6.76572712e-04, -6.51415556e-03,  1.17339359e-01,\n",
       "        4.21948410e-01,  9.93210937e-01,  8.82013974e-01,  7.45758734e-01,\n",
       "        7.23874268e-01,  7.23341725e-01,  7.20020340e-01,  8.45324959e-01,\n",
       "        8.31859739e-01,  6.88831870e-02, -2.77765012e-02,  3.59136710e-04,\n",
       "        7.14869281e-05,  0.00000000e+00,  0.00000000e+00,  0.00000000e+00,\n",
       "        0.00000000e+00,  1.53186275e-04,  3.17353553e-04, -2.29167177e-02,\n",
       "       -4.14402914e-03,  3.87038450e-01,  5.04583435e-01,  7.74885876e-01,\n",
       "        9.90037446e-01,  1.00769478e+00,  1.00851440e+00,  7.37905042e-01,\n",
       "        2.15455291e-01, -2.69624864e-02,  1.32506127e-03,  0.00000000e+00,\n",
       "        0.00000000e+00,  0.00000000e+00,  0.00000000e+00,  0.00000000e+00,\n",
       "        0.00000000e+00,  0.00000000e+00,  0.00000000e+00,  2.36366422e-04,\n",
       "       -2.26031454e-03, -2.51994485e-02, -3.73889910e-02,  6.62121228e-02,\n",
       "        2.91134498e-01,  3.23055726e-01,  3.06260315e-01,  8.76070942e-02,\n",
       "       -2.50581917e-02,  2.37438725e-04,  0.00000000e+00,  0.00000000e+00,\n",
       "        0.00000000e+00,  0.00000000e+00,  0.00000000e+00,  0.00000000e+00,\n",
       "        0.00000000e+00,  0.00000000e+00,  0.00000000e+00,  0.00000000e+00,\n",
       "        0.00000000e+00,  6.20939216e-18,  6.72618320e-04, -1.13151411e-02,\n",
       "       -3.54641066e-02, -3.88214912e-02, -3.71077412e-02, -1.33524928e-02,\n",
       "        9.90964718e-04,  4.89176960e-05,  0.00000000e+00,  0.00000000e+00,\n",
       "        0.00000000e+00,  0.00000000e+00,  0.00000000e+00,  0.00000000e+00,\n",
       "        0.00000000e+00,  0.00000000e+00,  0.00000000e+00,  0.00000000e+00,\n",
       "        0.00000000e+00,  0.00000000e+00,  0.00000000e+00,  0.00000000e+00,\n",
       "        0.00000000e+00,  0.00000000e+00,  0.00000000e+00,  0.00000000e+00,\n",
       "        0.00000000e+00,  0.00000000e+00,  0.00000000e+00,  0.00000000e+00,\n",
       "        0.00000000e+00,  0.00000000e+00,  0.00000000e+00,  0.00000000e+00,\n",
       "        0.00000000e+00,  0.00000000e+00,  0.00000000e+00,  0.00000000e+00,\n",
       "        0.00000000e+00,  0.00000000e+00,  0.00000000e+00,  0.00000000e+00,\n",
       "        0.00000000e+00,  0.00000000e+00,  0.00000000e+00,  0.00000000e+00,\n",
       "        0.00000000e+00,  0.00000000e+00,  0.00000000e+00,  0.00000000e+00,\n",
       "        0.00000000e+00,  0.00000000e+00,  0.00000000e+00,  0.00000000e+00])"
      ]
     },
     "execution_count": 7,
     "metadata": {},
     "output_type": "execute_result"
    }
   ],
   "source": [
    "x_data[0,:]"
   ]
  },
  {
   "cell_type": "code",
   "execution_count": 8,
   "metadata": {},
   "outputs": [
    {
     "data": {
      "text/plain": [
       "<matplotlib.image.AxesImage at 0x24a9357dd30>"
      ]
     },
     "execution_count": 8,
     "metadata": {},
     "output_type": "execute_result"
    },
    {
     "data": {
      "image/png": "[encoded data removed]",
      "text/plain": [
       "<Figure size 432x288 with 1 Axes>"
      ]
     },
     "metadata": {
      "needs_background": "light"
     },
     "output_type": "display_data"
    }
   ],
   "source": [
    "plt.imshow(x_data[1000,:].reshape(20,20),cmap = 'Greys')"
   ]
  },
  {
   "cell_type": "code",
   "execution_count": 9,
   "metadata": {},
   "outputs": [
    {
     "data": {
      "image/png": "[encoded data removed]",
      "text/plain": [
       "<Figure size 432x288 with 1 Axes>"
      ]
     },
     "metadata": {
      "needs_background": "light"
     },
     "output_type": "display_data"
    },
    {
     "data": {
      "image/png": "[encoded data removed]",
      "text/plain": [
       "<Figure size 432x288 with 1 Axes>"
      ]
     },
     "metadata": {
      "needs_background": "light"
     },
     "output_type": "display_data"
    },
    {
     "data": {
      "image/png": "[encoded data removed]",
      "text/plain": [
       "<Figure size 432x288 with 1 Axes>"
      ]
     },
     "metadata": {
      "needs_background": "light"
     },
     "output_type": "display_data"
    }
   ],
   "source": [
    "for i in range(1,4):\n",
    "    image_array = random.choice(x_data).reshape(20,20).T\n",
    "    plt.imshow(image_array, cmap = 'Greys', interpolation = 'None')\n",
    "    plt.show()"
   ]
  },
  {
   "cell_type": "code",
   "execution_count": 10,
   "metadata": {},
   "outputs": [],
   "source": [
    "r = pd.DataFrame(x_data)\n",
    "r['label'] = y_data"
   ]
  },
  {
   "cell_type": "code",
   "execution_count": 11,
   "metadata": {},
   "outputs": [],
   "source": [
    "def splitDataset(x,y):\n",
    "    result = pd.DataFrame(x)\n",
    "    result['label'] = y\n",
    "    result = shuffle(result)\n",
    "    training_set = result[:3500]\n",
    "    cv_set = result[3500:4500]\n",
    "    test_set = result[4500:]\n",
    "    return training_set,cv_set,test_set"
   ]
  },
  {
   "cell_type": "code",
   "execution_count": 12,
   "metadata": {},
   "outputs": [],
   "source": [
    "training_set,cv_set,test_set = splitDataset(x_data,y_data)"
   ]
  },
  {
   "cell_type": "code",
   "execution_count": 13,
   "metadata": {},
   "outputs": [
    {
     "data": {
      "text/plain": [
       "(3500, 401)"
      ]
     },
     "execution_count": 13,
     "metadata": {},
     "output_type": "execute_result"
    }
   ],
   "source": [
    "training_set.shape"
   ]
  },
  {
   "cell_type": "code",
   "execution_count": 14,
   "metadata": {},
   "outputs": [
    {
     "data": {
      "text/plain": [
       "(1000, 401)"
      ]
     },
     "execution_count": 14,
     "metadata": {},
     "output_type": "execute_result"
    }
   ],
   "source": [
    "cv_set.shape"
   ]
  },
  {
   "cell_type": "code",
   "execution_count": 15,
   "metadata": {},
   "outputs": [
    {
     "data": {
      "text/plain": [
       "(500, 401)"
      ]
     },
     "execution_count": 15,
     "metadata": {},
     "output_type": "execute_result"
    }
   ],
   "source": [
    "test_set.shape"
   ]
  },
  {
   "cell_type": "code",
   "execution_count": 16,
   "metadata": {},
   "outputs": [],
   "source": [
    "x_train = training_set.drop(\"label\",axis = 1)\n",
    "y_train = training_set['label']"
   ]
  },
  {
   "cell_type": "code",
   "execution_count": 17,
   "metadata": {},
   "outputs": [],
   "source": [
    "x_cv = cv_set.drop(\"label\",axis = 1)\n",
    "y_cv = cv_set['label']"
   ]
  },
  {
   "cell_type": "code",
   "execution_count": 18,
   "metadata": {},
   "outputs": [],
   "source": [
    "x_test = test_set.drop(\"label\",axis = 1)\n",
    "y_test = test_set['label']"
   ]
  },
  {
   "cell_type": "code",
   "execution_count": 19,
   "metadata": {},
   "outputs": [],
   "source": [
    "def LR_fit(x,y,c = 1):\n",
    "    clf = LogisticRegression(C = c)\n",
    "    clf.fit(x,y)\n",
    "    return clf"
   ]
  },
  {
   "cell_type": "code",
   "execution_count": 20,
   "metadata": {},
   "outputs": [],
   "source": [
    "model = LR_fit(x_train,y_train)"
   ]
  },
  {
   "cell_type": "code",
   "execution_count": 21,
   "metadata": {},
   "outputs": [],
   "source": [
    "def compute_error_lr(model,x,y):\n",
    "    acc = model.score(x,y)\n",
    "    error = 1 - acc\n",
    "    return error"
   ]
  },
  {
   "cell_type": "code",
   "execution_count": 22,
   "metadata": {},
   "outputs": [
    {
     "name": "stdout",
     "output_type": "stream",
     "text": [
      "训练集分类误差： 0.04971428571428571\n"
     ]
    }
   ],
   "source": [
    "error1 = compute_error_lr(model,x_train,y_train)\n",
    "print('训练集分类误差：',error1)"
   ]
  },
  {
   "cell_type": "code",
   "execution_count": 23,
   "metadata": {},
   "outputs": [
    {
     "name": "stdout",
     "output_type": "stream",
     "text": [
      "验证集集分类误差： 0.09899999999999998\n"
     ]
    }
   ],
   "source": [
    "error2 = compute_error_lr(model,x_cv,y_cv)\n",
    "print('验证集集分类误差：',error2)"
   ]
  },
  {
   "cell_type": "code",
   "execution_count": null,
   "metadata": {},
   "outputs": [],
   "source": [
    "#测试集\n",
    "error3 = compute_error_lr(model,x_test,y_test)\n",
    "print('测试集分类误差：',error3)"
   ]
  },
  {
   "cell_type": "code",
   "execution_count": null,
   "metadata": {},
   "outputs": [],
   "source": [
    "lambda1 = np.linspace(0,8, num=21)\n",
    "Cs = [1 if l == 0 else 1/l for l in lambda1]"
   ]
  },
  {
   "cell_type": "code",
   "execution_count": null,
   "metadata": {},
   "outputs": [],
   "source": [
    "lambda1"
   ]
  },
  {
   "cell_type": "code",
   "execution_count": null,
   "metadata": {},
   "outputs": [],
   "source": [
    "Cs"
   ]
  },
  {
   "cell_type": "code",
   "execution_count": null,
   "metadata": {},
   "outputs": [],
   "source": [
    "train_scores = []\n",
    "cv_scores = []\n",
    "test_scores = []\n",
    "\n",
    "for C in list(lambda1[1:]):\n",
    "    model1 = LR_fit(x_train,y_train,c = C)\n",
    "    error1 = compute_error_lr(model1,x_train,y_train)\n",
    "    error2 = compute_error_lr(model1,x_cv,y_cv)\n",
    "    error3 = compute_error_lr(model1,x_test,y_test)\n",
    "    train_scores.append(error1)\n",
    "    cv_scores.append(error2)\n",
    "    test_scores.append(error3)"
   ]
  },
  {
   "cell_type": "code",
   "execution_count": null,
   "metadata": {},
   "outputs": [],
   "source": [
    "plt.plot(list(lambda1[1:]),train_scores,label = 'train')\n",
    "plt.plot(list(lambda1[1:]),cv_scores,label = 'cv')\n",
    "plt.plot(list(lambda1[1:]),test_scores,label = 'test')\n",
    "plt.legend()\n",
    "plt.ylabel('error')\n",
    "plt.show()"
   ]
  },
  {
   "cell_type": "markdown",
   "metadata": {},
   "source": [
    "由于训练集错误率下降，但是验证集和测试集的错误率都上升，所以折中lambda选择为2"
   ]
  },
  {
   "cell_type": "code",
   "execution_count": null,
   "metadata": {},
   "outputs": [],
   "source": [
    "train_scores = []\n",
    "cv_scores = []\n",
    "test_scores = []\n",
    "\n",
    "for i in range(100,3600,100):\n",
    "    now_x = x_train[:i]\n",
    "    now_y = y_train[:i]\n",
    "    model1 = LR_fit(now_x,now_y,c = 2)\n",
    "    error1 = compute_error_lr(model1,now_x,now_y)\n",
    "    error2 = compute_error_lr(model1,x_cv,y_cv)\n",
    "    error3 = compute_error_lr(model1,x_test,y_test)\n",
    "    train_scores.append(error1)\n",
    "    cv_scores.append(error2)\n",
    "    test_scores.append(error3)"
   ]
  },
  {
   "cell_type": "code",
   "execution_count": null,
   "metadata": {},
   "outputs": [],
   "source": [
    "plt.plot(list(range(100,3600,100)),train_scores,label = 'train')\n",
    "plt.plot(list(range(100,3600,100)),cv_scores,label = 'val')\n",
    "plt.plot(list(range(100,3600,100)),test_scores,label = 'test')\n",
    "plt.legend()\n",
    "plt.ylabel('error')\n",
    "plt.show()"
   ]
  },
  {
   "cell_type": "code",
   "execution_count": null,
   "metadata": {},
   "outputs": [],
   "source": []
  },
  {
   "cell_type": "code",
   "execution_count": null,
   "metadata": {},
   "outputs": [],
   "source": []
  },
  {
   "cell_type": "code",
   "execution_count": null,
   "metadata": {},
   "outputs": [],
   "source": []
  },
  {
   "cell_type": "code",
   "execution_count": null,
   "metadata": {},
   "outputs": [],
   "source": []
  }
 ],
 "metadata": {
  "kernelspec": {
   "display_name": "Python 3",
   "language": "python",
   "name": "python3"
  },
  "language_info": {
   "codemirror_mode": {
    "name": "ipython",
    "version": 3
   },
   "file_extension": ".py",
   "mimetype": "text/x-python",
   "name": "python",
   "nbconvert_exporter": "python",
   "pygments_lexer": "ipython3",
   "version": "3.7.0"
  }
 },
 "nbformat": 4,
 "nbformat_minor": 2
}
